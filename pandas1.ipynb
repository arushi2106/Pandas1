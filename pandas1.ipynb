{
 "cells": [
  {
   "cell_type": "code",
   "execution_count": 1,
   "id": "dbc756ab",
   "metadata": {},
   "outputs": [],
   "source": [
    "import pandas as pd"
   ]
  },
  {
   "cell_type": "code",
   "execution_count": 2,
   "id": "a6393141",
   "metadata": {},
   "outputs": [],
   "source": [
    "lstA = [['Geek', 25], ['is', 30], ['for', 26], ['GeeksforGeeks', 22]]"
   ]
  },
  {
   "cell_type": "code",
   "execution_count": 3,
   "id": "9e7317c8",
   "metadata": {},
   "outputs": [
    {
     "name": "stdout",
     "output_type": "stream",
     "text": [
      "             Tag  Number\n",
      "0           Geek      25\n",
      "1             is      30\n",
      "2            for      26\n",
      "3  GeeksforGeeks      22\n"
     ]
    }
   ],
   "source": [
    "df = pd.DataFrame(lstA, columns = ['Tag', 'Number'])\n",
    "print(df)"
   ]
  }
 ],
 "metadata": {
  "kernelspec": {
   "display_name": "base",
   "language": "python",
   "name": "python3"
  },
  "language_info": {
   "codemirror_mode": {
    "name": "ipython",
    "version": 3
   },
   "file_extension": ".py",
   "mimetype": "text/x-python",
   "name": "python",
   "nbconvert_exporter": "python",
   "pygments_lexer": "ipython3",
   "version": "3.11.4"
  }
 },
 "nbformat": 4,
 "nbformat_minor": 5
}
